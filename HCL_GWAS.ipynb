{
 "cells": [
  {
   "cell_type": "markdown",
   "metadata": {},
   "source": [
    "## HCL GWAS\n",
    "\n",
    "Ce notebook Jupyter permet de semi-automatiser les études d'associations pangénomiques (GWAS: Genome Wide Assocation Studies), étape par étape.\n",
    "\n",
    "**Contenu**:\n",
    "\n",
    "1. Controle qualité des données de génotypage\n",
    "\n",
    "2. Correction pour les effets de population\n",
    "\n",
    "3. Analyse d'association\n",
    "\n",
    "### Sections \n",
    "\n",
    "- [HCL GWAS notebook](#hcl-gwas)\n",
    "    - [Sections](#sections)\n",
    "    - [Requis](#requis)\n",
    "    - [Plink](#plink)\n",
    "    - [Contrôle Qualité](#contrôle-qualité)"
   ]
  },
  {
   "cell_type": "markdown",
   "metadata": {},
   "source": [
    "### Requis\n",
    "\n",
    "L'outil [Plink v1.9](https://www.cog-genomics.org/plink/) sera utilise pour la manipulation des donnees. Les graphes d'interpretation seront fait en Python avec [Matplotlib](#https://matplotlib.org/).\n",
    "\n",
    "Versions des outils utilisés dans ce notebook:\n",
    "\n",
    " - plink v1.9\n",
    " - python v3.12\n",
    "    - matplotlib "
   ]
  },
  {
   "cell_type": "markdown",
   "metadata": {},
   "source": [
    "### Plink\n",
    "\n",
    "Plink est un outil de manipulation de données de génotypage qui utilise son propre format de fichier. Les génotypes sont représentés dans un ensemble de trois fichiers: le *.bim* contient les informations sur les variants, le *.fam* contient les informations sur les individus et le *.ped* les génotypes.\n",
    "\n",
    "Le format des fichiers est détaillé ci-dessous:\n",
    "\n",
    "<details>\n",
    "<summary>Détails des formats plink</summary>\n",
    "\n",
    "- **.bim**:\n",
    "\n",
    "| Champ | Format |\n",
    "| --- | --- |\n",
    "| Chromosome code | int or X/Y/XY/MT (0 indicates unknown) |\n",
    "| Variant ID | eg: rsID |\n",
    "| Position in morgans or centimorgans | 0 = dummy value |\n",
    "| Base-pair coordinates | 1-based, maximum is 2^31 - 2 |\n",
    "| Allele 1 | Corresponding to the clear bits in the .ped file |\n",
    "| Allele 2 | Corresponding to the set bits in the .ped file |\n",
    "\n",
    "- **.fam**:\n",
    "\n",
    "| Champ | Format |\n",
    "| --- | --- |\n",
    "| Family ID | / |\n",
    "| Within-Family ID | Cannot be 0 |\n",
    "| Within-Family ID or farther | 0 if not present in dataset |\n",
    "| Within-Family ID or mother | 0 if not present in dataset |\n",
    "| Sex code | 1 = male, 2 = female, 0 = unknown |\n",
    "| Phenotype value | 1 = control, 2 = case, 0/-9/non-numeric = missing data |\n",
    "\n",
    "- **.ped**:\n",
    "\n",
    "| Code | Format |\n",
    "| --- | --- |\n",
    "| 00 | Homozygous for the 1st allele in the .bim file |\n",
    "| 01 | Mising genotype |\n",
    "| 10 | Heterozygous |\n",
    "| 11 | Homozygous for the 2nd allele in the .bim file |\n",
    "\n",
    "</details>\n",
    "\n",
    "*note*: on utilisera surtout le *.bed*, la version binaire du *.ped*.\n",
    "\n",
    "Plink est assez sensible aux identifiants dupliqués pour les variants, il est courant d'avoir des \".\" pour les rsids manquants. Il est conseillé de transformer ces IDs manquants sous un autre format, eg: *chr_pos_ref_alt*."
   ]
  },
  {
   "cell_type": "markdown",
   "metadata": {},
   "source": [
    "### Contrôle Qualité\n",
    "\n",
    "##### 1a. Préparation des variables:\n",
    "\n"
   ]
  },
  {
   "cell_type": "code",
   "execution_count": null,
   "metadata": {},
   "outputs": [],
   "source": [
    "plink = \"/path/to/plink\"\n",
    "\n",
    "wdir = \"/home/corentin/Documents/bioinformatics/GAWSbook/test_dataset/\"\n",
    "bfile_prefix = \"ensemble_norm_all\"\n"
   ]
  },
  {
   "cell_type": "markdown",
   "metadata": {},
   "source": [
    "##### 1b. Filtre sur les données manquantes:\n",
    "\n",
    "Contrôle qualité des données de genotypage. On retire les individus et les variants avec plus de 5% de genotypes manquants (**--mind** et **--geno**). Et produire l'Analyse en Composantes Principales (**--pca**)."
   ]
  },
  {
   "cell_type": "code",
   "execution_count": null,
   "metadata": {},
   "outputs": [],
   "source": [
    "import subprocess\n",
    "\n",
    "plink_qc = subprocess.Popen([plink, \n",
    "                            \"--bfile\", bfile_prefix,\n",
    "                            \"--geno\", \"0.05\",\n",
    "                            \"-mind\", \"0.05\",\n",
    "                            \"--make-bed\",\n",
    "                            \"--pca\",\n",
    "                            \"--out\", bfile_prefix+\"_QC\"],\n",
    "                            stdout = subprocess.PIPE)\n",
    "\n",
    "plink_qc_output = plink_qc.communicate()[0]"
   ]
  },
  {
   "cell_type": "markdown",
   "metadata": {},
   "source": []
  }
 ],
 "metadata": {
  "kernelspec": {
   "display_name": "Python 3",
   "language": "python",
   "name": "python3"
  },
  "language_info": {
   "codemirror_mode": {
    "name": "ipython",
    "version": 3
   },
   "file_extension": ".py",
   "mimetype": "text/x-python",
   "name": "python",
   "nbconvert_exporter": "python",
   "pygments_lexer": "ipython3",
   "version": "3.12.3"
  }
 },
 "nbformat": 4,
 "nbformat_minor": 2
}

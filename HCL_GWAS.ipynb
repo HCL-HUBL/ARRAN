{
 "cells": [
  {
   "cell_type": "markdown",
   "metadata": {},
   "source": [
    "## HCL GWAS\n",
    "\n",
    "Ce notebook Jupyter permet de semi-automatiser les études d'associations pangénomiques (GWAS: Genome Wide Assocation Studies), étape par étape.\n",
    "\n",
    "**Contenu**:\n",
    "\n",
    "1. Controle qualité des données de génotypage\n",
    "\n",
    "2. Correction pour les effets de population\n",
    "\n",
    "3. Analyse d'association\n",
    "\n",
    "### Sections \n",
    "\n",
    "- [HCL GWAS notebook](#hcl-gwas)\n",
    "- [Sections](#sections)\n",
    "- [Requis](#requis)\n",
    "- [Plink](#plink)\n",
    "- [Contrôle Qualité](#contrôle-qualité)"
   ]
  },
  {
   "cell_type": "markdown",
   "metadata": {},
   "source": [
    "### Requis\n",
    "\n",
    "L'outil [Plink v1.9](https://www.cog-genomics.org/plink/) sera utilise pour la manipulation des donnees. Les graphes d'interpretation seront fait en Python avec [Matplotlib](#https://matplotlib.org/).\n",
    "\n",
    "Versions des outils utilisés dans ce notebook:\n",
    "\n",
    " - plink v1.9\n",
    " - python v3.12\n",
    "    - matplotlib "
   ]
  },
  {
   "cell_type": "markdown",
   "metadata": {},
   "source": [
    "### Plink\n",
    "\n",
    "Plink est un outil de manipulation de données de génotypage qui utilise son propre format de fichier. Les génotypes sont représentés dans un ensemble de trois fichiers: le *.bim* contient les informations sur les variants, le *.fam* contient les informations sur les individus et le *.ped* les génotypes.\n",
    "\n",
    "Le format des fichiers est détaillé ci-dessous:\n",
    "\n",
    "<details>\n",
    "<summary>Détails des formats plink</summary>\n",
    "\n",
    "- **.bim**:\n",
    "\n",
    "| Champ | Format |\n",
    "| --- | --- |\n",
    "| Chromosome code | int or X/Y/XY/MT (0 indicates unknown) |\n",
    "| Variant ID | eg: rsID |\n",
    "| Position in morgans or centimorgans | 0 = dummy value |\n",
    "| Base-pair coordinates | 1-based, maximum is 2^31 - 2 |\n",
    "| Allele 1 | Corresponding to the clear bits in the .ped file |\n",
    "| Allele 2 | Corresponding to the set bits in the .ped file |\n",
    "\n",
    "- **.fam**:\n",
    "\n",
    "| Champ | Format |\n",
    "| --- | --- |\n",
    "| Family ID | / |\n",
    "| Within-Family ID | Cannot be 0 |\n",
    "| Within-Family ID or farther | 0 if not present in dataset |\n",
    "| Within-Family ID or mother | 0 if not present in dataset |\n",
    "| Sex code | 1 = male, 2 = female, 0 = unknown |\n",
    "| Phenotype value | 1 = control, 2 = case, 0/-9/non-numeric = missing data |\n",
    "\n",
    "- **.ped**:\n",
    "\n",
    "| Code | Format |\n",
    "| --- | --- |\n",
    "| 00 | Homozygous for the 1st allele in the .bim file |\n",
    "| 01 | Mising genotype |\n",
    "| 10 | Heterozygous |\n",
    "| 11 | Homozygous for the 2nd allele in the .bim file |\n",
    "\n",
    "</details>\n",
    "\n",
    "*note*: on utilisera surtout le *.bed*, la version binaire du *.ped*.\n",
    "\n",
    "Plink est assez sensible aux identifiants dupliqués pour les variants, il est courant d'avoir des \".\" pour les rsids manquants. Il est conseillé de transformer ces IDs manquants sous un autre format, eg: *chr_pos_ref_alt*."
   ]
  },
  {
   "cell_type": "markdown",
   "metadata": {},
   "source": [
    "### Contrôle Qualité\n",
    "\n",
    "##### 1a. Préparation du jeu de donnees:\n",
    "\n",
    "Le jeu de donnees est un subset du [1000 Genomes Project](https://www.internationalgenome.org/)."
   ]
  },
  {
   "cell_type": "code",
   "execution_count": null,
   "metadata": {},
   "outputs": [],
   "source": [
    "import subprocess\n",
    "import os\n",
    "\n",
    "wdir = \"/home/corentin/Documents/GitHub/HCL-GWAS/test_dataset/\"\n",
    "os.chdir(wdir)\n",
    "\n",
    "wget_vcf = subprocess.Popen([\"wget\", \"https://storage.googleapis.com/hail-tutorial/1kg.vcf.bgz\"],\n",
    "                            stdout = subprocess.PIPE)\n",
    "wget_out = wget_vcf.communicate()[0]\n",
    "\n",
    "wget_annot = subprocess.Popen([\"wget\", \"https://storage.googleapis.com/hail-tutorial/1kg_annotations.txt\"],\n",
    "                              stdout = subprocess.PIPE)\n",
    "wget_out2 = wget_annot.communicate()[0]"
   ]
  },
  {
   "cell_type": "markdown",
   "metadata": {},
   "source": [
    "### Optionnel: convertir un VCF en plink\n",
    "\n",
    "Cette commande va convertir le fichier VCF en:\n",
    " - <bfile_prefix>.bed\n",
    " - <bfile_prefix>.bim\n",
    " - <bfile_prefix>.fam\n",
    "\n",
    "<bfile_prefix>.nosex indique quels echantillons ont l'information sur le sexe manquant dans le fichier *.fam* (ie: tous les echantillons car l'information est absente du VCF)."
   ]
  },
  {
   "cell_type": "code",
   "execution_count": null,
   "metadata": {},
   "outputs": [],
   "source": [
    "plink = \"plink1.9\"\n",
    "bfile_prefix = \"Caffeine\"\n",
    "vcf = \"1kg.vcf.bgz\"\n",
    "\n",
    "vcf2plink = subprocess.Popen([plink,\n",
    "                              \"--vcf\", vcf,\n",
    "                              \"--make-bed\",\n",
    "                              \"--out\", bfile_prefix],\n",
    "                              stdout = subprocess.PIPE)\n",
    "\n",
    "vcf2plink_out = vcf2plink.communicate()[0]"
   ]
  },
  {
   "cell_type": "markdown",
   "metadata": {},
   "source": [
    "##### 1b. Filtre sur les données manquantes:\n",
    "\n",
    "Contrôle qualité des données de genotypage. On retire les individus et les variants avec plus de 5% de genotypes manquants (**--mind** et **--geno**). Et produire l'Analyse en Composantes Principales (**--pca**)."
   ]
  },
  {
   "cell_type": "code",
   "execution_count": null,
   "metadata": {},
   "outputs": [],
   "source": [
    "plink_qc = subprocess.Popen([plink, \n",
    "                            \"--bfile\", bfile_prefix,\n",
    "                            \"--geno\", \"0.05\",\n",
    "                            \"-mind\", \"0.05\",\n",
    "                            \"--make-bed\",\n",
    "                            \"--pca\",\n",
    "                            \"--out\", bfile_prefix+\"_QC\"],\n",
    "                            stdout = subprocess.PIPE)\n",
    "\n",
    "plink_qc_output = plink_qc.communicate()[0]"
   ]
  },
  {
   "cell_type": "markdown",
   "metadata": {},
   "source": []
  }
 ],
 "metadata": {
  "kernelspec": {
   "display_name": "Python 3",
   "language": "python",
   "name": "python3"
  },
  "language_info": {
   "codemirror_mode": {
    "name": "ipython",
    "version": 3
   },
   "file_extension": ".py",
   "mimetype": "text/x-python",
   "name": "python",
   "nbconvert_exporter": "python",
   "pygments_lexer": "ipython3",
   "version": "3.12.3"
  }
 },
 "nbformat": 4,
 "nbformat_minor": 2
}
